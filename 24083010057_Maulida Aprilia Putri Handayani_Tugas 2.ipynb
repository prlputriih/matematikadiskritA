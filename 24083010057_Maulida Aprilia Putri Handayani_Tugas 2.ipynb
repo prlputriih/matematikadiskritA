{
 "cells": [
  {
   "cell_type": "markdown",
   "id": "aa16bb4b",
   "metadata": {},
   "source": [
    "# Pernyataan 1"
   ]
  },
  {
   "cell_type": "code",
   "execution_count": 39,
   "id": "5d5d35bf",
   "metadata": {},
   "outputs": [],
   "source": [
    "# 1 + 3 + 5 + ... + (2n - 1) = n^2"
   ]
  },
  {
   "cell_type": "code",
   "execution_count": 40,
   "id": "318f35e6",
   "metadata": {},
   "outputs": [
    {
     "name": "stdout",
     "output_type": "stream",
     "text": [
      "0\n",
      "0\n"
     ]
    },
    {
     "data": {
      "text/plain": [
       "True"
      ]
     },
     "execution_count": 40,
     "metadata": {},
     "output_type": "execute_result"
    }
   ],
   "source": [
    "def sisi_kiri1(n):\n",
    "    jumlah = 0\n",
    "    for i in range(1, n+1):\n",
    "        jumlah += 2*i - 1   # bilangan ganjil ke-i\n",
    "    return jumlah\n",
    "\n",
    "def sisi_kanan1(n):\n",
    "    return n**2\n",
    "\n",
    "print(sisi_kiri1(0))\n",
    "print(sisi_kanan1(0))\n",
    "sisi_kiri1(0) == sisi_kanan1(0)"
   ]
  },
  {
   "cell_type": "code",
   "execution_count": 41,
   "id": "bd5e6ef0",
   "metadata": {},
   "outputs": [
    {
     "name": "stdout",
     "output_type": "stream",
     "text": [
      "1\n",
      "1\n"
     ]
    },
    {
     "data": {
      "text/plain": [
       "True"
      ]
     },
     "execution_count": 41,
     "metadata": {},
     "output_type": "execute_result"
    }
   ],
   "source": [
    "print(sisi_kiri1(1))\n",
    "print(sisi_kanan1(1))\n",
    "sisi_kiri1(1) == sisi_kanan1(1)"
   ]
  },
  {
   "cell_type": "code",
   "execution_count": 42,
   "id": "fc23795f",
   "metadata": {},
   "outputs": [
    {
     "name": "stdout",
     "output_type": "stream",
     "text": [
      "4\n",
      "4\n"
     ]
    },
    {
     "data": {
      "text/plain": [
       "True"
      ]
     },
     "execution_count": 42,
     "metadata": {},
     "output_type": "execute_result"
    }
   ],
   "source": [
    "print(sisi_kiri1(2))\n",
    "print(sisi_kanan1(2))\n",
    "sisi_kiri1(2) == sisi_kanan1(2)"
   ]
  },
  {
   "cell_type": "code",
   "execution_count": 43,
   "id": "4e3523aa",
   "metadata": {},
   "outputs": [
    {
     "name": "stdout",
     "output_type": "stream",
     "text": [
      "2500\n",
      "2500\n"
     ]
    },
    {
     "data": {
      "text/plain": [
       "True"
      ]
     },
     "execution_count": 43,
     "metadata": {},
     "output_type": "execute_result"
    }
   ],
   "source": [
    "print(sisi_kiri1(50))\n",
    "print(sisi_kanan1(50))\n",
    "sisi_kiri1(50) == sisi_kanan1(50)"
   ]
  },
  {
   "cell_type": "code",
   "execution_count": 44,
   "id": "f0b46f15",
   "metadata": {},
   "outputs": [
    {
     "name": "stdout",
     "output_type": "stream",
     "text": [
      "22500\n",
      "22500\n"
     ]
    },
    {
     "data": {
      "text/plain": [
       "True"
      ]
     },
     "execution_count": 44,
     "metadata": {},
     "output_type": "execute_result"
    }
   ],
   "source": [
    "print(sisi_kiri1(150))\n",
    "print(sisi_kanan1(150))\n",
    "sisi_kiri1(150) == sisi_kanan1(150)"
   ]
  },
  {
   "cell_type": "markdown",
   "id": "2eaacdc5",
   "metadata": {},
   "source": [
    "Pada pernyataan tersebut dapat diketahui bahwa nilai n yang lebih besar sama dengan 0 (n >= 0) valid, setiap bilangan ganjil yang dijumlahkan hasilnya akan menjadi kuadrat dari banyaknya bilangan ganjil yang ditambahkan"
   ]
  },
  {
   "cell_type": "markdown",
   "id": "d3a236f7",
   "metadata": {},
   "source": [
    "# Pernyataan 2"
   ]
  },
  {
   "cell_type": "code",
   "execution_count": 45,
   "id": "932bf4c8",
   "metadata": {},
   "outputs": [],
   "source": [
    "# 2^n > n^2"
   ]
  },
  {
   "cell_type": "code",
   "execution_count": 46,
   "id": "4bd50fe7",
   "metadata": {},
   "outputs": [
    {
     "name": "stdout",
     "output_type": "stream",
     "text": [
      "1\n",
      "0\n"
     ]
    },
    {
     "data": {
      "text/plain": [
       "True"
      ]
     },
     "execution_count": 46,
     "metadata": {},
     "output_type": "execute_result"
    }
   ],
   "source": [
    "def sisi_kiri2(n):\n",
    "    return 2**n\n",
    "\n",
    "def sisi_kanan2(n):\n",
    "    return n**2\n",
    "\n",
    "print(sisi_kiri2(0))\n",
    "print(sisi_kanan2(0))\n",
    "sisi_kiri2(0) > sisi_kanan2(0)"
   ]
  },
  {
   "cell_type": "code",
   "execution_count": 47,
   "id": "d6de6178",
   "metadata": {},
   "outputs": [
    {
     "name": "stdout",
     "output_type": "stream",
     "text": [
      "2\n",
      "1\n"
     ]
    },
    {
     "data": {
      "text/plain": [
       "True"
      ]
     },
     "execution_count": 47,
     "metadata": {},
     "output_type": "execute_result"
    }
   ],
   "source": [
    "print(sisi_kiri2(1))\n",
    "print(sisi_kanan2(1))\n",
    "sisi_kiri2(1) > sisi_kanan2(1)"
   ]
  },
  {
   "cell_type": "code",
   "execution_count": 48,
   "id": "3cb4937c",
   "metadata": {},
   "outputs": [
    {
     "name": "stdout",
     "output_type": "stream",
     "text": [
      "4\n",
      "4\n"
     ]
    },
    {
     "data": {
      "text/plain": [
       "False"
      ]
     },
     "execution_count": 48,
     "metadata": {},
     "output_type": "execute_result"
    }
   ],
   "source": [
    "print(sisi_kiri2(2))\n",
    "print(sisi_kanan2(2))\n",
    "sisi_kiri2(1) > sisi_kanan2(2)"
   ]
  },
  {
   "cell_type": "code",
   "execution_count": 49,
   "id": "37c84889",
   "metadata": {},
   "outputs": [
    {
     "name": "stdout",
     "output_type": "stream",
     "text": [
      "8\n",
      "9\n"
     ]
    },
    {
     "data": {
      "text/plain": [
       "False"
      ]
     },
     "execution_count": 49,
     "metadata": {},
     "output_type": "execute_result"
    }
   ],
   "source": [
    "print(sisi_kiri2(3))\n",
    "print(sisi_kanan2(3))\n",
    "sisi_kiri2(3) > sisi_kanan2(3)"
   ]
  },
  {
   "cell_type": "code",
   "execution_count": 50,
   "id": "ae78382b",
   "metadata": {},
   "outputs": [
    {
     "name": "stdout",
     "output_type": "stream",
     "text": [
      "16\n",
      "16\n"
     ]
    },
    {
     "data": {
      "text/plain": [
       "False"
      ]
     },
     "execution_count": 50,
     "metadata": {},
     "output_type": "execute_result"
    }
   ],
   "source": [
    "print(sisi_kiri2(4))\n",
    "print(sisi_kanan2(4))\n",
    "sisi_kiri2(4) > sisi_kanan2(4)"
   ]
  },
  {
   "cell_type": "code",
   "execution_count": 51,
   "id": "87bf1edb",
   "metadata": {},
   "outputs": [
    {
     "name": "stdout",
     "output_type": "stream",
     "text": [
      "32\n",
      "25\n"
     ]
    },
    {
     "data": {
      "text/plain": [
       "True"
      ]
     },
     "execution_count": 51,
     "metadata": {},
     "output_type": "execute_result"
    }
   ],
   "source": [
    "print(sisi_kiri2(5))\n",
    "print(sisi_kanan2(5))\n",
    "sisi_kiri2(5) > sisi_kanan2(5)"
   ]
  },
  {
   "cell_type": "code",
   "execution_count": 55,
   "id": "32185f99",
   "metadata": {},
   "outputs": [
    {
     "name": "stdout",
     "output_type": "stream",
     "text": [
      "64\n",
      "36\n"
     ]
    },
    {
     "data": {
      "text/plain": [
       "True"
      ]
     },
     "execution_count": 55,
     "metadata": {},
     "output_type": "execute_result"
    }
   ],
   "source": [
    "print(sisi_kiri2(6))\n",
    "print(sisi_kanan2(6))\n",
    "sisi_kiri2(6) > sisi_kanan2(6)"
   ]
  },
  {
   "cell_type": "code",
   "execution_count": 56,
   "id": "3d769daf",
   "metadata": {},
   "outputs": [
    {
     "name": "stdout",
     "output_type": "stream",
     "text": [
      "316912650057057350374175801344\n",
      "9604\n"
     ]
    },
    {
     "data": {
      "text/plain": [
       "True"
      ]
     },
     "execution_count": 56,
     "metadata": {},
     "output_type": "execute_result"
    }
   ],
   "source": [
    "print(sisi_kiri2(98))\n",
    "print(sisi_kanan2(98))\n",
    "sisi_kiri2(98) > sisi_kanan2(98)"
   ]
  },
  {
   "cell_type": "code",
   "execution_count": 52,
   "id": "b2d12e28",
   "metadata": {},
   "outputs": [
    {
     "name": "stdout",
     "output_type": "stream",
     "text": [
      "0.125\n",
      "9\n"
     ]
    },
    {
     "data": {
      "text/plain": [
       "False"
      ]
     },
     "execution_count": 52,
     "metadata": {},
     "output_type": "execute_result"
    }
   ],
   "source": [
    "print(sisi_kiri2(-3))\n",
    "print(sisi_kanan2(-3))\n",
    "sisi_kiri2(-3) > sisi_kanan2(-3)"
   ]
  },
  {
   "cell_type": "code",
   "execution_count": 53,
   "id": "aaffde5c",
   "metadata": {},
   "outputs": [
    {
     "name": "stdout",
     "output_type": "stream",
     "text": [
      "0.5\n",
      "1\n"
     ]
    },
    {
     "data": {
      "text/plain": [
       "False"
      ]
     },
     "execution_count": 53,
     "metadata": {},
     "output_type": "execute_result"
    }
   ],
   "source": [
    "print(sisi_kiri2(-1))\n",
    "print(sisi_kanan2(-1))\n",
    "sisi_kiri2(-1) > sisi_kanan2(-1)"
   ]
  },
  {
   "cell_type": "code",
   "execution_count": 54,
   "id": "aad4061c",
   "metadata": {},
   "outputs": [
    {
     "name": "stdout",
     "output_type": "stream",
     "text": [
      "8.077935669463161e-28\n",
      "8100\n"
     ]
    },
    {
     "data": {
      "text/plain": [
       "False"
      ]
     },
     "execution_count": 54,
     "metadata": {},
     "output_type": "execute_result"
    }
   ],
   "source": [
    "print(sisi_kiri2(-90))\n",
    "print(sisi_kanan2(-90))\n",
    "sisi_kiri2(-90) > sisi_kanan2(-90)"
   ]
  },
  {
   "cell_type": "markdown",
   "id": "1e87af91",
   "metadata": {},
   "source": [
    "Pada pernyataan tersebut bilangan yang valid ada pada n = 0, 1 dan kembali True pada n >= 5 sesuai dengan fungsi eksponensial yang tumbuh lebih lambat dari fungsi kuadrat, tetapi setelah titik tertentu menjadi jauh lebih cepat dan selalu lebih besar dibandingkan kuadrat bilangan bulat. Sehingga pada pernyataan ini berlaku syarat tertentu pada rentang nilai n"
   ]
  }
 ],
 "metadata": {
  "kernelspec": {
   "display_name": "base",
   "language": "python",
   "name": "python3"
  },
  "language_info": {
   "codemirror_mode": {
    "name": "ipython",
    "version": 3
   },
   "file_extension": ".py",
   "mimetype": "text/x-python",
   "name": "python",
   "nbconvert_exporter": "python",
   "pygments_lexer": "ipython3",
   "version": "3.12.4"
  }
 },
 "nbformat": 4,
 "nbformat_minor": 5
}
